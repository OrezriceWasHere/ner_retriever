{
 "cells": [
  {
   "metadata": {
    "ExecuteTime": {
     "end_time": "2025-06-18T13:21:56.308367Z",
     "start_time": "2025-06-18T13:21:56.304871Z"
    }
   },
   "cell_type": "code",
   "source": [
    "import math\n",
    "\n",
    "import torch\n",
    "from matplotlib import pyplot as plt\n",
    "from tqdm import trange\n",
    "from fewnerd_dataset.database import search_es\n",
    "from contextual_contrastive_projection_network import hyperparameters\n",
    "from contextual_contrastive_projection_network.contrastive_loss import ContrastiveLoss\n",
    "from contextual_contrastive_projection_network.mlp import ContrastiveMLP\n",
    "from fewnerd_dataset.database import initialize_es\n",
    "from fewnerd_dataset.llm import compute_llm_output, token_indices_given_text_indices\n",
    "from hyperparameters import HyperParameters"
   ],
   "id": "3f1f8aec055346c0",
   "outputs": [],
   "execution_count": 10
  },
  {
   "metadata": {
    "collapsed": true,
    "ExecuteTime": {
     "end_time": "2025-06-18T13:21:56.334340Z",
     "start_time": "2025-06-18T13:21:56.326327Z"
    }
   },
   "cell_type": "code",
   "source": [
    "hp = HyperParameters()\n",
    "train_types = hyperparameters.TrainTypes.types\n",
    "test_types = hyperparameters.TestTypes.types\n",
    "model = ContrastiveMLP(args=hp)\n",
    "criterion = ContrastiveLoss(margin=hp.triplet_loss_margin)\n",
    "optimizer = torch.optim.Adam(model.parameters(), lr=hp.lr)"
   ],
   "id": "initial_id",
   "outputs": [
    {
     "name": "stdout",
     "output_type": "stream",
     "text": [
      "created mlp model:  Sequential(\n",
      "  (0): Gate(dimension=1024)\n",
      "  (1): Linear(in_features=1024, out_features=500, bias=True)\n",
      "  (2): SiLU()\n",
      "  (3): Dropout(p=0.1, inplace=False)\n",
      "  (4): Linear(in_features=500, out_features=500, bias=True)\n",
      ")\n"
     ]
    }
   ],
   "execution_count": 11
  },
  {
   "metadata": {
    "ExecuteTime": {
     "end_time": "2025-06-18T13:21:56.450368Z",
     "start_time": "2025-06-18T13:21:56.444806Z"
    }
   },
   "cell_type": "code",
   "source": [
    "async def yield_dataset(es, fine_types):\n",
    "\t\"\"\"\n",
    "\tFor each term (fine type) in the train_fine_types, yields a triplet:\n",
    "\t(definition_representation, good_doc_representation, list of bad_doc_representation(s)).\n",
    "\t- definition_representation: forward pass of the term text.\n",
    "\t- good_doc_representation: representation from one random document having fine_type == term.\n",
    "\t- bad_doc_representation: a list (here one sample) computed from a document whose fine_type != term.\n",
    "\t\"\"\"\n",
    "\tinstances_per_type = hp.instances_per_type\n",
    "\tfor term in fine_types:\n",
    "\t\t# Definition representation: use the term text itself.\n",
    "\t\tanchor = compute_representation(term)\n",
    "\n",
    "\t\t# Good document: query for documents where \"fine_type\" equals the term.\n",
    "\t\tgood_query = {\"term\": {\"fine_type\": term}}\n",
    "\t\tpositive_hits = await search_es(es, good_query, size=instances_per_type)\n",
    "\t\tif not positive_hits:\n",
    "\t\t\tcontinue\n",
    "\t\tpositive_batch = torch.stack([torch.tensor(x[\"_source\"][\"llm_output\"]) for x in positive_hits])\n",
    "\n",
    "\t\tnegative_batch_count = min(len(positive_hits), instances_per_type)\n",
    "\t\thard_negative_ratio = hp.hard_negative_ratio\n",
    "\t\thard_negative_count = math.ceil(negative_batch_count * hard_negative_ratio)\n",
    "\t\teasy_negative_count = negative_batch_count - hard_negative_count\n",
    "\t\t# Bad document(s): query for documents whose fine_type is different from the term.\n",
    "\t\teasy_negative_query = {\"bool\": {\"must_not\": {\"term\": {\"fine_type\": term}}}}\n",
    "\t\teasy_negative_hits = await search_es(es, easy_negative_query, size=easy_negative_count)\n",
    "\t\t# For simplicity, sample one bad document representation.\n",
    "\t\teasy_negative_batch = torch.stack([torch.tensor(x[\"_source\"][\"llm_output\"]) for x in easy_negative_hits])\n",
    "\n",
    "\t\thard_negative_query = {\n",
    "\t\t\t\"bool\": {\n",
    "\t\t\t\t\"must\": {\"match_all\": {}},\n",
    "\t\t\t\t\"must_not\": easy_negative_query[\"bool\"][\"must_not\"],\n",
    "\t\t\t\t\"should\": {\n",
    "\t\t\t\t\t\"more_like_this\": {\n",
    "\t\t\t\t\t\t\"fields\": [\n",
    "\t\t\t\t\t\t\t\"all_text\"\n",
    "\t\t\t\t\t\t],\n",
    "\t\t\t\t\t\t\"like\": term,\n",
    "\t\t\t\t\t\t\"min_term_freq\": 1,\n",
    "\t\t\t\t\t\t\"min_doc_freq\": 1\n",
    "\t\t\t\t\t}\n",
    "\t\t\t\t}\n",
    "\t\t\t}\n",
    "\t\t}\n",
    "\t\thard_negative_hits = await search_es(es, hard_negative_query, size=hard_negative_count)\n",
    "\t\thard_negative_batch = torch.stack([torch.tensor(x[\"_source\"][\"llm_output\"]) for x in hard_negative_hits])\n",
    "\t\t# Combine easy and hard negatives.\n",
    "\t\tnegative_batch = torch.cat((easy_negative_batch, hard_negative_batch), dim=0)\n",
    "\n",
    "\t\tyield anchor, positive_batch, negative_batch"
   ],
   "id": "c16b2e3b7d94ee8f",
   "outputs": [],
   "execution_count": 12
  },
  {
   "metadata": {
    "ExecuteTime": {
     "end_time": "2025-06-18T13:21:56.475942Z",
     "start_time": "2025-06-18T13:21:56.473027Z"
    }
   },
   "cell_type": "code",
   "source": [
    "def compute_representation(term):\n",
    "\t\"\"\"\n",
    "\tComputes the representation of a term using a pre-trained model.\n",
    "\tFor simplicity, this function is a placeholder and should be replaced with actual model inference logic.\n",
    "\t\"\"\"\n",
    "\t# Here you would typically use a pre-trained model to compute the representation.\n",
    "\t# For example, using a transformer model or any other embedding technique.\n",
    "\ttexts = [term]\n",
    "\toutputs = compute_llm_output(texts)  # Assuming this function is defined elsewhere\n",
    "\ttext_indices = [(0, len(term))]  # Assuming the entire term is the text\n",
    "\t_, last_token_idx = token_indices_given_text_indices(term, text_indices[0])\n",
    "\treturn outputs[0][last_token_idx].squeeze(0)  # shape: [hidden_dim]"
   ],
   "id": "54a145352c56025b",
   "outputs": [],
   "execution_count": 13
  },
  {
   "metadata": {
    "ExecuteTime": {
     "end_time": "2025-06-18T13:21:56.530024Z",
     "start_time": "2025-06-18T13:21:56.525312Z"
    }
   },
   "cell_type": "code",
   "source": [
    "async def train_epoch(es):\n",
    "\tmodel.train()\n",
    "\tepoch_train_loss = 0.0\n",
    "\tcount_loss = 0\n",
    "\tasync for anchor, positive_examples, negative_examples in yield_dataset(es, train_types):\n",
    "\t\toptimizer.zero_grad()\n",
    "\t\tanchor_mlp = model(anchor).unsqueeze(0)\n",
    "\t\tpositive_mlp = model(positive_examples)\n",
    "\t\tnegative_mlp = model(negative_examples)\n",
    "\t\tloss = criterion(anchor_mlp, positive_mlp, negative_mlp)\n",
    "\t\tloss.backward()\n",
    "\t\toptimizer.step()\n",
    "\t\tepoch_train_loss += loss.item()\n",
    "\t\tcount_loss += 1\n",
    "\treturn epoch_train_loss / count_loss if count_loss else 0.0\n",
    "\n",
    "\n",
    "async def evaluate_epoch(es):\n",
    "\tmodel.eval()\n",
    "\tepoch_test_loss = 0.0\n",
    "\tcount_loss = 0\n",
    "\twith torch.no_grad():\n",
    "\t\tasync for anchor, positive_examples, negative_examples in yield_dataset(es, test_types):\n",
    "\t\t\tanchor_mlp = model(anchor).unsqueeze(0)\n",
    "\t\t\tpositive_mlp = model(positive_examples)\n",
    "\t\t\tnegative_mlp = model(negative_examples)\n",
    "\t\t\tloss = criterion(anchor_mlp, positive_mlp, negative_mlp)\n",
    "\t\t\tepoch_test_loss += loss.item()\n",
    "\t\t\tcount_loss += 1\n",
    "\treturn epoch_test_loss / count_loss if count_loss else 0.0"
   ],
   "id": "a8e828fc3f85a8f7",
   "outputs": [],
   "execution_count": 14
  },
  {
   "metadata": {
    "ExecuteTime": {
     "end_time": "2025-06-18T13:21:56.592134Z",
     "start_time": "2025-06-18T13:21:56.588674Z"
    }
   },
   "cell_type": "code",
   "source": [
    "async def train_mlp(es):\n",
    "    loss_history = []\n",
    "    progress_bar = trange(hp.epochs, desc='Epoch 0: Train Loss: 0.0000, Test Loss: 0.0000')\n",
    "    for epoch in progress_bar:\n",
    "        avg_train_loss = await train_epoch(es)\n",
    "        avg_test_loss = await evaluate_epoch(es)\n",
    "        loss_history.append(avg_test_loss)\n",
    "        progress_bar.set_description(\n",
    "            f'Epoch {epoch + 1}/{hp.epochs}: Train Loss: {avg_train_loss:.4f}, Test Loss: {avg_test_loss:.4f}'\n",
    "        )\n",
    "    return loss_history"
   ],
   "id": "658c7ba4f222f248",
   "outputs": [],
   "execution_count": 15
  },
  {
   "metadata": {
    "ExecuteTime": {
     "end_time": "2025-06-18T13:21:56.653027Z",
     "start_time": "2025-06-18T13:21:56.650127Z"
    }
   },
   "cell_type": "code",
   "source": [
    "def display_loss_graph(losses):\n",
    "\t\"\"\"\n",
    "\tPlots and saves the training loss curve.\n",
    "\t\"\"\"\n",
    "\tplt.figure()\n",
    "\tplt.plot(losses, label='Testing Loss')\n",
    "\tplt.xlabel('Epoch')\n",
    "\tplt.ylabel('Loss')\n",
    "\tplt.legend()\n",
    "\tplt.title('Testing Loss')\n",
    "\tplt.show()"
   ],
   "id": "194242725e1568ec",
   "outputs": [],
   "execution_count": 16
  },
  {
   "metadata": {
    "ExecuteTime": {
     "end_time": "2025-06-18T13:34:13.488341Z",
     "start_time": "2025-06-18T13:21:56.712409Z"
    }
   },
   "cell_type": "code",
   "source": [
    "\n",
    "async def main():\n",
    "\tes, index_name = await initialize_es()\n",
    "\tlosses = await train_mlp(es)\n",
    "\tdisplay_loss_graph(losses)\n",
    "\ttorch.save(model.state_dict(), \"../contrastive_projection_net.pt\")\n",
    "\tawait es.close()\n",
    "\n",
    "await main()"
   ],
   "id": "f1f6edda2949716c",
   "outputs": [
    {
     "name": "stderr",
     "output_type": "stream",
     "text": [
      "Epoch 30/30: Train Loss: 0.0453, Test Loss: 0.0723: 100%|██████████| 30/30 [12:16<00:00, 24.56s/it]\n"
     ]
    },
    {
     "data": {
      "text/plain": [
       "<Figure size 640x480 with 1 Axes>"
      ],
      "image/png": "[encoded data removed]"
     },
     "metadata": {},
     "output_type": "display_data"
    }
   ],
   "execution_count": 17
  }
 ],
 "metadata": {
  "kernelspec": {
   "display_name": "Python 3",
   "language": "python",
   "name": "python3"
  },
  "language_info": {
   "codemirror_mode": {
    "name": "ipython",
    "version": 2
   },
   "file_extension": ".py",
   "mimetype": "text/x-python",
   "name": "python",
   "nbconvert_exporter": "python",
   "pygments_lexer": "ipython2",
   "version": "2.7.6"
  }
 },
 "nbformat": 4,
 "nbformat_minor": 5
}
